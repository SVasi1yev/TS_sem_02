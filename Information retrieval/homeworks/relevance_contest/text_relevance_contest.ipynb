{
 "cells": [
  {
   "cell_type": "code",
   "execution_count": 1,
   "metadata": {},
   "outputs": [],
   "source": [
    "from collections import defaultdict\n",
    "import BM25\n",
    "import pymorphy2\n",
    "from tqdm import tqdm\n",
    "import parser\n",
    "from bs4 import BeautifulSoup\n",
    "import re\n",
    "from html.parser import HTMLParser\n",
    "import pymorphy2\n",
    "import parser\n",
    "from pymystem3 import Mystem\n",
    "import rank_bm25\n",
    "import numpy as np"
   ]
  },
  {
   "cell_type": "code",
   "execution_count": 2,
   "metadata": {},
   "outputs": [
    {
     "name": "stdout",
     "output_type": "stream",
     "text": [
      "all_mystem.json    __pycache__\r\n",
      "all_pymorphy.json  queries.numerate.txt\r\n",
      "BM25.py\t\t   sample.technosphere.ir1.textrelevance.submission.txt\r\n",
      "content\t\t   sub2.7-1.0-1.5.txt\r\n",
      "doc\t\t   subs\r\n",
      "maybe.csv\t   sub.txt\r\n",
      "my_doc_mystem\t   text_relevance_contest.ipynb\r\n",
      "my_doc_pymorphy    urls.numerate.txt\r\n",
      "parser.py\r\n"
     ]
    }
   ],
   "source": [
    "!ls"
   ]
  },
  {
   "cell_type": "code",
   "execution_count": 3,
   "metadata": {},
   "outputs": [],
   "source": [
    "# p = parser.Parser()"
   ]
  },
  {
   "cell_type": "code",
   "execution_count": 4,
   "metadata": {},
   "outputs": [],
   "source": [
    "# p.parse()"
   ]
  },
  {
   "cell_type": "code",
   "execution_count": 5,
   "metadata": {},
   "outputs": [],
   "source": [
    "model = BM25.BM25()"
   ]
  },
  {
   "cell_type": "code",
   "execution_count": 6,
   "metadata": {},
   "outputs": [
    {
     "name": "stderr",
     "output_type": "stream",
     "text": [
      "100%|██████████| 399/399 [05:40<00:00,  1.17it/s]\n"
     ]
    }
   ],
   "source": [
    "model.count_global_stats()"
   ]
  },
  {
   "cell_type": "code",
   "execution_count": 7,
   "metadata": {},
   "outputs": [
    {
     "name": "stderr",
     "output_type": "stream",
     "text": [
      "100%|██████████| 399/399 [06:09<00:00,  1.08it/s]\n"
     ]
    }
   ],
   "source": [
    "for query_id in tqdm(BM25.query_id_2_docs_id):\n",
    "    model.count_stats_for_query(query_id)"
   ]
  },
  {
   "cell_type": "code",
   "execution_count": 8,
   "metadata": {},
   "outputs": [
    {
     "name": "stderr",
     "output_type": "stream",
     "text": [
      "100%|██████████| 399/399 [05:20<00:00,  1.25it/s]\n"
     ]
    }
   ],
   "source": [
    "with open('sub.txt', 'w') as sub_file:\n",
    "    sub_file.write('QueryId,DocumentId\\n')\n",
    "    for query_id in tqdm(BM25.query_id_2_docs_id):\n",
    "        score_list = model.count_query_score_list(query_id)\n",
    "        score_list = sorted(score_list.items(), key=lambda tup: -tup[1])\n",
    "        for e in score_list:\n",
    "            sub_file.write(f'{query_id},{e[0]}\\n')"
   ]
  },
  {
   "cell_type": "code",
   "execution_count": null,
   "metadata": {},
   "outputs": [],
   "source": []
  }
 ],
 "metadata": {
  "kernelspec": {
   "display_name": "Python 3",
   "language": "python",
   "name": "python3"
  },
  "language_info": {
   "codemirror_mode": {
    "name": "ipython",
    "version": 3
   },
   "file_extension": ".py",
   "mimetype": "text/x-python",
   "name": "python",
   "nbconvert_exporter": "python",
   "pygments_lexer": "ipython3",
   "version": "3.7.5"
  }
 },
 "nbformat": 4,
 "nbformat_minor": 2
}
