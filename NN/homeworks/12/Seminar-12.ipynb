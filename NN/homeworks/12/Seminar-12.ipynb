{
 "cells": [
  {
   "cell_type": "markdown",
   "metadata": {},
   "source": [
    "## Семинар 13: \"Обучение с подкреплением 1\""
   ]
  },
  {
   "cell_type": "markdown",
   "metadata": {},
   "source": [
    "ФИО: Васильев Семён Михайлович"
   ]
  },
  {
   "cell_type": "markdown",
   "metadata": {},
   "source": [
    "###  FrozenLake\n",
    "\n",
    "\n",
    "<img src=\"http://vignette2.wikia.nocookie.net/riseoftheguardians/images/4/4c/Jack's_little_sister_on_the_ice.jpg/revision/latest?cb=20141218030206\" alt=\"a random image to attract attention\" style=\"width: 400px;\"/>\n",
    "\n"
   ]
  },
  {
   "cell_type": "code",
   "execution_count": 1,
   "metadata": {},
   "outputs": [],
   "source": [
    "import gym\n",
    "import numpy as np \n",
    "\n",
    "#create a single game instance\n",
    "env = gym.make(\"FrozenLake-v0\")\n",
    "\n",
    "#start new game\n",
    "env.reset();"
   ]
  },
  {
   "cell_type": "code",
   "execution_count": 2,
   "metadata": {},
   "outputs": [
    {
     "name": "stdout",
     "output_type": "stream",
     "text": [
      "\n",
      "\u001b[41mS\u001b[0mFFF\n",
      "FHFH\n",
      "FFFH\n",
      "HFFG\n"
     ]
    }
   ],
   "source": [
    "# display the game state\n",
    "env.render()"
   ]
  },
  {
   "cell_type": "markdown",
   "metadata": {},
   "source": [
    "### legend\n",
    "\n",
    "![img](https://cdn-images-1.medium.com/max/800/1*MCjDzR-wfMMkS0rPqXSmKw.png)"
   ]
  },
  {
   "cell_type": "markdown",
   "metadata": {},
   "source": [
    "### Gym interface\n",
    "\n",
    "The three main methods of an environment are\n",
    "* __reset()__ - reset environment to initial state, _return first observation_\n",
    "* __render()__ - show current environment state (a more colorful version :) )\n",
    "* __step(a)__ - commit action __a__ and return (new observation, reward, is done, info)\n",
    " * _new observation_ - an observation right after commiting the action __a__\n",
    " * _reward_ - a number representing your reward for commiting action __a__\n",
    " * _is done_ - True if the MDP has just finished, False if still in progress\n",
    " * _info_ - some auxilary stuff about what just happened. Ignore it for now"
   ]
  },
  {
   "cell_type": "code",
   "execution_count": 3,
   "metadata": {
    "scrolled": true
   },
   "outputs": [
    {
     "name": "stdout",
     "output_type": "stream",
     "text": [
      "initial observation code: 0\n",
      "printing observation:\n",
      "\n",
      "\u001b[41mS\u001b[0mFFF\n",
      "FHFH\n",
      "FFFH\n",
      "HFFG\n",
      "observations: Discrete(16) n = 16\n",
      "actions: Discrete(4) n = 4\n"
     ]
    }
   ],
   "source": [
    "print(\"initial observation code:\", env.reset())\n",
    "print('printing observation:')\n",
    "env.render()\n",
    "print(\"observations:\", env.observation_space, 'n =', env.observation_space.n)\n",
    "print(\"actions:\", env.action_space, 'n =', env.action_space.n)"
   ]
  },
  {
   "cell_type": "code",
   "execution_count": 4,
   "metadata": {},
   "outputs": [
    {
     "name": "stdout",
     "output_type": "stream",
     "text": [
      "taking action 2 (right)\n",
      "new observation code: 0\n",
      "reward: 0.0\n",
      "is game over?: False\n",
      "printing new state:\n",
      "  (Right)\n",
      "\u001b[41mS\u001b[0mFFF\n",
      "FHFH\n",
      "FFFH\n",
      "HFFG\n"
     ]
    }
   ],
   "source": [
    "print(\"taking action 2 (right)\")\n",
    "new_obs, reward, is_done, _ = env.step(2)\n",
    "print(\"new observation code:\", new_obs)\n",
    "print(\"reward:\", reward)\n",
    "print(\"is game over?:\", is_done)\n",
    "print(\"printing new state:\")\n",
    "env.render()"
   ]
  },
  {
   "cell_type": "code",
   "execution_count": 5,
   "metadata": {},
   "outputs": [],
   "source": [
    "action_to_i = {\n",
    "    'left':0,\n",
    "    'down':1,\n",
    "    'right':2,\n",
    "    'up':3\n",
    "}"
   ]
  },
  {
   "cell_type": "markdown",
   "metadata": {},
   "source": [
    "### Попробуйте походить по замерзшему озеру, не упав в дырку. \n",
    "* Каждый шаг вы с вероятностью __0.5__ будете двигаться в выбранном направлении и с вероятностью __0.5__ в случайном.\n",
    "* Если упадете, используйте __env.reset()__ чтобы перезапустить __env__"
   ]
  },
  {
   "cell_type": "code",
   "execution_count": 6,
   "metadata": {},
   "outputs": [
    {
     "data": {
      "text/plain": [
       "0"
      ]
     },
     "execution_count": 6,
     "metadata": {},
     "output_type": "execute_result"
    }
   ],
   "source": [
    "env.reset()"
   ]
  },
  {
   "cell_type": "code",
   "execution_count": 7,
   "metadata": {},
   "outputs": [
    {
     "name": "stdout",
     "output_type": "stream",
     "text": [
      "False\n",
      "  (Right)\n",
      "SFFF\n",
      "\u001b[41mF\u001b[0mHFH\n",
      "FFFH\n",
      "HFFG\n"
     ]
    }
   ],
   "source": [
    "new_obs, reward, is_done, _ = env.step(action_to_i['right'])\n",
    "print(is_done)\n",
    "env.render()"
   ]
  },
  {
   "cell_type": "markdown",
   "metadata": {},
   "source": [
    "## Задание: \n",
    "Следуя шаблонам функций реализуйте алгоритм Policy iteration.\n",
    "Протестируйте его с помощью функции __evaluate_policy__.\n",
    "Попробуйте разные значение для gamma и сравните результаты."
   ]
  },
  {
   "cell_type": "code",
   "execution_count": 8,
   "metadata": {},
   "outputs": [],
   "source": [
    "def run_episode(env, policy, gamma = 1.0, render = False):\n",
    "    obs = env.reset()\n",
    "    total_reward = 0\n",
    "    step_idx = 0\n",
    "    while True:\n",
    "        if render:\n",
    "            env.render()\n",
    "        obs, reward, done , _ = env.step(int(policy[obs]))\n",
    "        total_reward += (gamma ** step_idx * reward)\n",
    "        step_idx += 1\n",
    "        if done:\n",
    "            break\n",
    "    return total_reward"
   ]
  },
  {
   "cell_type": "code",
   "execution_count": 9,
   "metadata": {},
   "outputs": [],
   "source": [
    "def evaluate_policy(env, policy, gamma = 1.0,  n = 100):\n",
    "    scores = [\n",
    "            run_episode(env, policy, gamma = gamma, render = False)\n",
    "            for _ in range(n)]\n",
    "    return np.mean(scores)"
   ]
  },
  {
   "cell_type": "code",
   "execution_count": 10,
   "metadata": {},
   "outputs": [],
   "source": [
    "# Используя фиксированную value_function и жадную стратегию получите policy\n",
    "\n",
    "def extract_policy(v, gamma = 1.0):\n",
    "    policy = np.zeros(env.env.nS)\n",
    "    q = np.zeros((env.env.nS, env.env.nA))\n",
    "    for s in env.env.P.keys():\n",
    "        for a in env.env.P[s].keys():\n",
    "            for p, s_, r, _ in env.env.P[s][a]:\n",
    "                q[s, a] += gamma * p * v[s_] + r * p\n",
    "        policy[s] = np.argmax(q[s, :])\n",
    "    return policy"
   ]
  },
  {
   "cell_type": "code",
   "execution_count": 11,
   "metadata": {},
   "outputs": [],
   "source": [
    "# Используя фиксированную policy с помощью сэмплирования получите оценку для value_function с точностью 1e-10\n",
    "\n",
    "\n",
    "def compute_policy_v(env, policy, gamma=1.0):\n",
    "    v_prev = np.ones(env.env.nS)\n",
    "    v_new = np.zeros(env.env.nS)\n",
    "    while np.linalg.norm(v_new - v_prev) > 1e-10:\n",
    "        v_prev = v_new\n",
    "        v_new = np.zeros(env.env.nS)\n",
    "        for s in env.env.P.keys():\n",
    "            for p, s_, r, _ in env.env.P[s][policy[s]]:\n",
    "                v_new[s] += gamma * p * v_prev[s_] + r * p\n",
    "    return v_new"
   ]
  },
  {
   "cell_type": "code",
   "execution_count": 12,
   "metadata": {},
   "outputs": [],
   "source": [
    "def policy_iteration(env, gamma = 1.0, max_iterations = 1000000):\n",
    "    policy = np.random.choice(np.arange(env.env.nA), env.env.nS)\n",
    "    for i in range(max_iterations):\n",
    "        old_policy_v = compute_policy_v(env, policy, gamma)\n",
    "        new_policy = extract_policy(old_policy_v, gamma)\n",
    "        if (np.all(policy == new_policy)):\n",
    "            break\n",
    "\n",
    "        policy = new_policy\n",
    "    return policy"
   ]
  },
  {
   "cell_type": "code",
   "execution_count": 13,
   "metadata": {},
   "outputs": [
    {
     "name": "stdout",
     "output_type": "stream",
     "text": [
      "[0. 3. 3. 3. 0. 0. 0. 0. 3. 1. 0. 0. 0. 2. 1. 0.]\n",
      "0.67\n"
     ]
    }
   ],
   "source": [
    "gamma = 1.0\n",
    "env = gym.make(\"FrozenLake-v0\")\n",
    "optimal_policy = policy_iteration(env, gamma=gamma)\n",
    "policy_score = evaluate_policy(env, optimal_policy, gamma, n=100)\n",
    "\n",
    "print(optimal_policy)\n",
    "print(policy_score)"
   ]
  },
  {
   "cell_type": "code",
   "execution_count": 14,
   "metadata": {},
   "outputs": [
    {
     "name": "stdout",
     "output_type": "stream",
     "text": [
      "[0. 3. 0. 3. 0. 0. 0. 0. 3. 1. 0. 0. 0. 2. 1. 0.]\n",
      "0.08237780760302955\n"
     ]
    }
   ],
   "source": [
    "gamma = 0.9\n",
    "env = gym.make(\"FrozenLake-v0\")\n",
    "optimal_policy = policy_iteration(env, gamma=gamma)\n",
    "policy_score = evaluate_policy(env, optimal_policy, gamma, n=100)\n",
    "\n",
    "print(optimal_policy)\n",
    "print(policy_score)"
   ]
  },
  {
   "cell_type": "code",
   "execution_count": 15,
   "metadata": {},
   "outputs": [
    {
     "name": "stdout",
     "output_type": "stream",
     "text": [
      "[1. 3. 2. 3. 0. 0. 0. 0. 3. 1. 0. 0. 0. 2. 1. 0.]\n",
      "0.0007349757764405242\n"
     ]
    }
   ],
   "source": [
    "gamma = 0.5\n",
    "env = gym.make(\"FrozenLake-v0\")\n",
    "optimal_policy = policy_iteration(env, gamma=gamma)\n",
    "policy_score = evaluate_policy(env, optimal_policy, gamma, n=100)\n",
    "\n",
    "print(optimal_policy)\n",
    "print(policy_score)"
   ]
  },
  {
   "cell_type": "code",
   "execution_count": 16,
   "metadata": {},
   "outputs": [
    {
     "name": "stdout",
     "output_type": "stream",
     "text": [
      "[1. 3. 2. 3. 0. 0. 0. 0. 3. 1. 0. 0. 0. 2. 1. 0.]\n",
      "6.479086488407487e-07\n"
     ]
    }
   ],
   "source": [
    "gamma = 0.2\n",
    "env = gym.make(\"FrozenLake-v0\")\n",
    "optimal_policy = policy_iteration(env, gamma=gamma)\n",
    "policy_score = evaluate_policy(env, optimal_policy, gamma, n=100)\n",
    "\n",
    "print(optimal_policy)\n",
    "print(policy_score)"
   ]
  },
  {
   "cell_type": "code",
   "execution_count": 17,
   "metadata": {},
   "outputs": [
    {
     "name": "stdout",
     "output_type": "stream",
     "text": [
      "[0. 0. 0. 0. 0. 0. 0. 0. 0. 0. 0. 0. 0. 0. 1. 0.]\n",
      "0.0\n"
     ]
    }
   ],
   "source": [
    "gamma = 0.0\n",
    "env = gym.make(\"FrozenLake-v0\")\n",
    "optimal_policy = policy_iteration(env, gamma=gamma)\n",
    "policy_score = evaluate_policy(env, optimal_policy, gamma, n=100)\n",
    "\n",
    "print(optimal_policy)\n",
    "print(policy_score)"
   ]
  },
  {
   "cell_type": "markdown",
   "metadata": {},
   "source": [
    "Лучший результат при гамма = 1. С уменьшением гамма результат ухудшается."
   ]
  },
  {
   "cell_type": "code",
   "execution_count": null,
   "metadata": {},
   "outputs": [],
   "source": []
  }
 ],
 "metadata": {
  "kernelspec": {
   "display_name": "Python 3",
   "language": "python",
   "name": "python3"
  },
  "language_info": {
   "codemirror_mode": {
    "name": "ipython",
    "version": 3
   },
   "file_extension": ".py",
   "mimetype": "text/x-python",
   "name": "python",
   "nbconvert_exporter": "python",
   "pygments_lexer": "ipython3",
   "version": "3.7.5"
  }
 },
 "nbformat": 4,
 "nbformat_minor": 1
}
